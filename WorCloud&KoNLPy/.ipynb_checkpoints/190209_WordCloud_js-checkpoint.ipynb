{
 "cells": [
  {
   "cell_type": "markdown",
   "metadata": {},
   "source": [
    "# WordCloud\n",
    "\n",
    "[ 디자인팀 13기 박준성 ]\n",
    "\n",
    ": 텍스트 데이터에서 단어들의 빈도수를 나타내는 그림\n",
    "\n",
    "* 빈도수가 높은 단어일수록 워드클라우드에서 더 크고 두껍게 나타난다.\n",
    "* 텍스트 데이터의 주제를 파악하는 데 도움이 된다.\n",
    "\n",
    "##### Reference:\n",
    "Amueller's github - https://amueller.github.io/word_cloud/index.html\n",
    "<br>\n",
    "Coursera 강의 Data Visualization with Python (by IBM) - https://www.coursera.org/learn/python-for-data-visualization/\n",
    "<br>\n",
    "9기 디자인팀 조혜경 님의 WordCloud (2018-2 에 강의)"
   ]
  },
  {
   "cell_type": "code",
   "execution_count": null,
   "metadata": {},
   "outputs": [],
   "source": [
    "import matplotlib as mpl\n",
    "import matplotlib.pyplot as plt\n",
    "import numpy as np\n",
    "import pandas as pd\n",
    "%matplotlib inline \n",
    "np.set_printoptions(threshold=np.nan)"
   ]
  },
  {
   "cell_type": "markdown",
   "metadata": {},
   "source": [
    "## WordCloud Module 다운로드 및 설치\n",
    "\n",
    "1. cmd에 conda install -c conda-forge wordcloud=1.5\n",
    "2. python shell에서 import wordcloud -> 성공!\n",
    "\n",
    "설치에 실패하거나, import wordcloud했을 때 실패한다면 (DLL load failed 에러),\n",
    "1. conda remove pillow\n",
    "2. conda install -c conda-forge wordcloud=1.5\n",
    "3. python shell에서 import wordcloud -> 성공!\n",
    "\n",
    "win 32 bit의 경우 1.4.1"
   ]
  },
  {
   "cell_type": "markdown",
   "metadata": {},
   "source": [
    "### WordCloud 만들기"
   ]
  },
  {
   "cell_type": "code",
   "execution_count": null,
   "metadata": {},
   "outputs": [],
   "source": [
    "# import package and its set of stopwords\n",
    "from wordcloud import WordCloud, STOPWORDS as stopwords"
   ]
  },
  {
   "cell_type": "code",
   "execution_count": null,
   "metadata": {},
   "outputs": [],
   "source": [
    "# 소설 '이상한 나라의 앨리스' 를 불러옵니다.\n",
    "alice_text = open(\"alice_novel.txt\",\"r\").read()\n",
    "alice_text"
   ]
  },
  {
   "cell_type": "code",
   "execution_count": null,
   "metadata": {},
   "outputs": [],
   "source": [
    "# 가지고 있는 데이터에서 유의미한 단어 토큰만을 선별하기 위해서 큰 의미가 없는 단어 토큰을 제거하는 작업이 필요하다.\n",
    "# 여기서 의미가 없다는 것은 자주 등장하지만 문장 분석에서 큰 도움이 되지 않는 것을 말한다.\n",
    "# 이러한 단어들을 stopwords 라고 한다.\n",
    "stopwords"
   ]
  },
  {
   "cell_type": "code",
   "execution_count": null,
   "metadata": {},
   "outputs": [],
   "source": [
    "# Alice text의 워드클라우드를 만드는 WordCloud 클래스의 인스턴스 생성(create)\n",
    "\n",
    "alicewc = WordCloud(background_color = \"white\",\n",
    "                  collocations = True, \n",
    "# 이때 collocations=True 이면 said King, said Hatter 같이 자주 나타나는 단어는 하나의 어구로 분류됨.\n",
    "                  stopwords = stopwords)\n",
    "\n",
    "\n",
    "# alice_novel이라는 텍스트 데이터를 사용하여 wordcloud를 generate하기\n",
    "alicewc.generate(alice_text)"
   ]
  },
  {
   "cell_type": "code",
   "execution_count": null,
   "metadata": {},
   "outputs": [],
   "source": [
    "# 각 word의 frequency을 볼 수 있음. \n",
    "# 가장 많이 나오는 단어가 1 이 되고 나머지가 상대적인 값으로 나타남.\n",
    "alicewc.words_"
   ]
  },
  {
   "cell_type": "markdown",
   "metadata": {},
   "source": [
    "### 생성한 WordCloud 를 시각화하기"
   ]
  },
  {
   "cell_type": "code",
   "execution_count": null,
   "metadata": {},
   "outputs": [],
   "source": [
    "alicewc.to_image()"
   ]
  },
  {
   "cell_type": "code",
   "execution_count": null,
   "metadata": {},
   "outputs": [],
   "source": [
    "# WordCloud를 이미지로 저장하기\n",
    "alicewc.to_file(\"my_alice.png\") # 다른 확장자로도 저장 가능"
   ]
  },
  {
   "cell_type": "code",
   "execution_count": null,
   "metadata": {},
   "outputs": [],
   "source": [
    "# WordCloud 사이즈를 조정해주면 빈도수가 적은 단어들도 볼 수 있다.\n",
    "alicewc = WordCloud(background_color = 'white',\n",
    "                   collocations = False,\n",
    "                   stopwords = stopwords,\n",
    "                   width = 600, height = 400)\n",
    "\n",
    "alicewc.generate(alice_text)\n",
    "alicewc.to_image()"
   ]
  },
  {
   "cell_type": "code",
   "execution_count": null,
   "metadata": {},
   "outputs": [],
   "source": [
    "# said 라는 단어가 쓸데 없이 자꾸 나오는거 같다?\n",
    "\n",
    "stopwords.add(\"said\")\n",
    "\n",
    "alicewc.generate(alice_text)\n",
    "alicewc.to_image()"
   ]
  },
  {
   "cell_type": "markdown",
   "metadata": {},
   "source": [
    "### WordCloud 색 바꾸기\n",
    "<br>\n",
    " https://matplotlib.org/examples/color/colormaps_reference.html\n",
    " <br>\n",
    " https://amueller.github.io/word_cloud/generated/wordcloud.WordCloud.html#wordcloud.WordCloud<br>https://www.rapidtables.com/web/color/RGB_Color.html"
   ]
  },
  {
   "cell_type": "code",
   "execution_count": null,
   "metadata": {},
   "outputs": [],
   "source": [
    "# colormap 지정\n",
    "\n",
    "alicewc = WordCloud(background_color = \"white\",\n",
    "                  collocations = False,\n",
    "                  stopwords = stopwords,\n",
    "                   colormap = \"flag\") \n",
    "\n",
    "alicewc.generate(alice_text)\n",
    "alicewc.to_image()"
   ]
  },
  {
   "cell_type": "code",
   "execution_count": null,
   "metadata": {},
   "outputs": [],
   "source": [
    "# color_func 을 설정하여 색 적용\n",
    "\n",
    "def my_color_func(*args, **kwargs):\n",
    "    #print(args, kwargs)\n",
    "    font_size = kwargs['font_size']\n",
    "    if font_size > 50:\n",
    "        return \"rgb(204,0,102)\"\n",
    "    elif font_size > 20:\n",
    "        return \"rgb(255,51,153)\"\n",
    "    else:\n",
    "        return \"rgb(255,153,204)\""
   ]
  },
  {
   "cell_type": "code",
   "execution_count": null,
   "metadata": {},
   "outputs": [],
   "source": [
    "# 앞에서 만들어준 my_color_func을 사용\n",
    "alicewc = WordCloud(background_color = \"white\",\n",
    "                  collocations = False,\n",
    "                  stopwords = stopwords,\n",
    "                   color_func = my_color_func)\n",
    "\n",
    "alicewc.generate(alice_text)\n",
    "alicewc.to_image()"
   ]
  },
  {
   "cell_type": "markdown",
   "metadata": {},
   "source": [
    "### WordCloud 폰트 지정하기"
   ]
  },
  {
   "cell_type": "code",
   "execution_count": null,
   "metadata": {},
   "outputs": [],
   "source": [
    "# font_path 를 지정하여 원하는 폰트를 지정할 수 있다.\n",
    "# 폰트 경로에 해당 폰트가 없으면 오류 발생.\n",
    "\n",
    "alicewc = WordCloud(background_color = \"white\",\n",
    "                    collocations = False,\n",
    "                    stopwords = stopwords,\n",
    "                    colormap = \"Reds\",\n",
    "                    font_path = 'C:/Windows/Fonts/Bernhc.ttf') \n",
    "\n",
    "alicewc.generate(alice_text)\n",
    "alicewc.to_image()"
   ]
  },
  {
   "cell_type": "markdown",
   "metadata": {},
   "source": [
    "폰트를 지정했더니 기존의 WordCloud 보다 더 별로...\n",
    "폰트 선택은 신중하게 합시다."
   ]
  },
  {
   "cell_type": "markdown",
   "metadata": {},
   "source": [
    "### WordCloud 에 더 많은 단어들을 담는 방법\n",
    ": 앞에서 WordCloud Size를 크게하는 방법이 있었고, 그 외에 min_font_size 를 설정하여 더 많은 단어를 담을 수 있다.<br>\n",
    "default 값은 4 이다."
   ]
  },
  {
   "cell_type": "code",
   "execution_count": null,
   "metadata": {},
   "outputs": [],
   "source": [
    "alicewc = WordCloud(background_color = \"white\",\n",
    "                    collocations = False,\n",
    "                    stopwords = stopwords,\n",
    "                    colormap = \"Reds\",\n",
    "                    font_path = 'C:/Windows/Fonts/Bernhc.ttf',\n",
    "                    min_font_size = 2) \n",
    "\n",
    "alicewc.generate(alice_text)\n",
    "alicewc.to_image()"
   ]
  },
  {
   "cell_type": "markdown",
   "metadata": {},
   "source": [
    "차이가 없어보이지만 차이가 있다.<br>\n",
    "더 확실한 차이를 비교해보고 싶으면 각자 WordCloud Size 조절을 통해서 해보도록 합시다."
   ]
  },
  {
   "cell_type": "markdown",
   "metadata": {},
   "source": [
    "<br>"
   ]
  },
  {
   "cell_type": "markdown",
   "metadata": {},
   "source": [
    "## Image Mask 에 WordCloud 시각화"
   ]
  },
  {
   "cell_type": "markdown",
   "metadata": {},
   "source": [
    "### 1. Image Mask 가져오기\n",
    "\n",
    "* Pillow library을 통해서 image data를 로드할 수 있다. Pillow는 파이썬의 이미징 라이브러리로 여러 이미지 파일 포맷(png, jpg, jpeg, ...)을 지원하며 다양한 이미지 처리 function을 제공한다. (e.g. 썸네일만들기, 다른 이미지 포맷으로 바꾸기 + 이미지 프로세싱)<br><br>\n",
    "* 따라서, Pillow library를 통해 마스크 이미지로 사용할 이미지를 가져오고 WordCloud를 generate할 때, mask = '해당 마스크 이미지'로 설정하면 된다.<br><br>\n",
    "https://pillow.readthedocs.io/en/5.2.x/reference/Image.html"
   ]
  },
  {
   "cell_type": "code",
   "execution_count": null,
   "metadata": {},
   "outputs": [],
   "source": [
    "from PIL import Image, ImageFilter"
   ]
  },
  {
   "cell_type": "code",
   "execution_count": null,
   "metadata": {},
   "outputs": [],
   "source": [
    "Image.open(\"alice_mask.png\")"
   ]
  },
  {
   "cell_type": "code",
   "execution_count": null,
   "metadata": {},
   "outputs": [],
   "source": [
    "# Image Mask 를 사용하기 위해 np.array 형태로 변환\n",
    "\n",
    "mask_array = np.array(Image.open(\"alice_mask.png\"))\n",
    "mask_array\n",
    "# array를 확인하면 좋은데 image가 클 경우 오래걸려서 멈출 수 있으므로 주의"
   ]
  },
  {
   "cell_type": "markdown",
   "metadata": {},
   "source": [
    "<br>"
   ]
  },
  {
   "cell_type": "markdown",
   "metadata": {},
   "source": [
    "## Pillow 패키지의 Image, ImageFilter 모듈 기능"
   ]
  },
  {
   "cell_type": "code",
   "execution_count": null,
   "metadata": {},
   "outputs": [],
   "source": [
    "#썸네일 만들기\n",
    "a = Image.open(\"alice_mask.png\")\n",
    "size = (32,32) #최대 32*32 사이즈의 썸네일 만들기\n",
    "a.thumbnail(size)\n",
    "a.save(\"thumb.jpg\")\n",
    "\n",
    "#이미지 확대/축소하기\n",
    "Image.open(\"alice_mask.png\").resize((300,500))\n",
    "\n",
    "#이미지 저장하기\n",
    "a.save(\"alicejpg.jpg\")\n",
    "\n",
    "#이미지 필터링\n",
    "Image.open(\"alice_mask.png\").filter(ImageFilter.BLUR) #CONTOUR 등등"
   ]
  },
  {
   "cell_type": "markdown",
   "metadata": {},
   "source": [
    "## 2. Image Mask 위에 WordCloud 적용하기"
   ]
  },
  {
   "cell_type": "code",
   "execution_count": null,
   "metadata": {},
   "outputs": [],
   "source": [
    "alice_wc = WordCloud(background_color = \"white\",\n",
    "                   collocations = False,\n",
    "                   stopwords = stopwords,\n",
    "                   mask = mask_array) # 앞에서 np.array로 만든 mask 지정\n",
    "\n",
    "alice_wc.generate(alice_text)\n",
    "alice_wc.to_image()"
   ]
  },
  {
   "cell_type": "code",
   "execution_count": null,
   "metadata": {},
   "outputs": [],
   "source": [
    "# 크기 조정을 하고싶다면? -> np.array 할 때 사이즈를 조정한다.\n",
    "\n",
    "smaller_alice_array = np.array(Image.open(\"alice_mask.png\").resize((200, 200)))\n",
    "\n",
    "alice_wc2 = WordCloud(background_color = \"white\",\n",
    "                   collocations = False,\n",
    "                   stopwords = stopwords,\n",
    "                   mask = smaller_alice_array) # 앞에서 np.array로 만든 mask 지정\n",
    "\n",
    "alice_wc2.generate(alice_text)\n",
    "alice_wc2.to_image()"
   ]
  },
  {
   "cell_type": "markdown",
   "metadata": {},
   "source": [
    "### 앞에서 배운 내용들을 모두 사용하여 최종 결과물 만들어보기"
   ]
  },
  {
   "cell_type": "code",
   "execution_count": null,
   "metadata": {},
   "outputs": [],
   "source": [
    "alice_wc_f = WordCloud(background_color = \"white\", # 배경색\n",
    "                   collocations = False, # collocation 떨어뜨리기\n",
    "                   stopwords = stopwords, # stopword 지정\n",
    "                   mask = mask_array, # np.array로 가져온 이미지 mask 지정\n",
    "                   colormap = \"Reds\", # colormap 지정\n",
    "                   font_path = 'C:/Windows/Fonts/Bernhc.ttf', # 폰트 지정   \n",
    "                   min_font_size = 1) # 최소 폰트 크기 지정\n",
    "\n",
    "alice_wc_f.generate(alice_text)\n",
    "alice_wc_f.to_image()"
   ]
  },
  {
   "cell_type": "markdown",
   "metadata": {},
   "source": [
    "<br>"
   ]
  },
  {
   "cell_type": "markdown",
   "metadata": {},
   "source": [
    "### 모든 이미지가 Image Mask 가능할까요?"
   ]
  },
  {
   "cell_type": "code",
   "execution_count": null,
   "metadata": {},
   "outputs": [],
   "source": [
    "# 준비한 토끼 사진을 불러오고, np.array 형태로 지정하겠습니다.\n",
    "\n",
    "rabbit = Image.open(\"rabbit.jpeg\")\n",
    "rabbit_array = np.array(rabbit)\n",
    "rabbit"
   ]
  },
  {
   "cell_type": "code",
   "execution_count": null,
   "metadata": {},
   "outputs": [],
   "source": [
    "alice_wc3 = WordCloud(background_color = \"white\",\n",
    "                      collocations = False,\n",
    "                      stopwords = stopwords,\n",
    "                      colormap = \"Reds\",\n",
    "                      mask = rabbit_array)\n",
    "\n",
    "alice_wc3.generate(alice_text)\n",
    "alice_wc3.to_image()"
   ]
  },
  {
   "cell_type": "markdown",
   "metadata": {},
   "source": [
    "안되는 이유는 rabbit_array 로 생성한 np.array 를 살펴보면 알 수 있습니다.<br>\n",
    "토끼뿐만 아니라 뒷 배경에도 array가 지정되어 있기 때문입니다.\n",
    "<br> <br>"
   ]
  },
  {
   "cell_type": "markdown",
   "metadata": {},
   "source": [
    "## WordCloud 한글 시각화\n",
    "<br>\n",
    "한글로 WordCloud를 하기 위해서 먼저 명사만 추출하는 과정이 필요.<br>\n",
    "이 과정은 KoNLPy를 이용하여 진행.<br>\n",
    "token화 시킨 파일을 라이브러리 pickle을 사용하여 저장해놓은 txt를 여는 것도 가능."
   ]
  },
  {
   "cell_type": "code",
   "execution_count": null,
   "metadata": {},
   "outputs": [],
   "source": [
    "import konlpy\n",
    "from konlpy.tag import Okt"
   ]
  },
  {
   "cell_type": "code",
   "execution_count": null,
   "metadata": {},
   "outputs": [],
   "source": [
    "okt = Okt()"
   ]
  },
  {
   "cell_type": "code",
   "execution_count": null,
   "metadata": {},
   "outputs": [],
   "source": [
    "text = open(\"korcon.txt\", encoding = 'utf-8').read()\n",
    "text"
   ]
  },
  {
   "cell_type": "code",
   "execution_count": null,
   "metadata": {},
   "outputs": [],
   "source": [
    "tokens_noun = okt.nouns(text)\n",
    "tokens_noun"
   ]
  },
  {
   "cell_type": "code",
   "execution_count": null,
   "metadata": {},
   "outputs": [],
   "source": [
    "# pickle을 통해 내보내기\n",
    "import pickle\n",
    "with open('noun.txt', 'wb') as f:\n",
    "    pickle.dump(tokens_noun, f)"
   ]
  },
  {
   "cell_type": "code",
   "execution_count": null,
   "metadata": {},
   "outputs": [],
   "source": [
    "# pickle로 내보낸 txt 파일 불러오기\n",
    "with open('noun.txt', 'rb') as f:\n",
    "    tokens_noun = pickle.load(f)\n",
    "    \n",
    "tokens_noun"
   ]
  },
  {
   "cell_type": "code",
   "execution_count": null,
   "metadata": {},
   "outputs": [],
   "source": [
    "#워드클라우드에 넣지 않을 단어들을 stopwords로 지정해주고, tokens_noun에서 그 단어들 제외해주기\n",
    "stopwords = [\"제\",\"월\",\"일\",\"조\",\"때\",\"그\",\"이\",\"및\",\"안\",\"바\",\"수\",\"것\",\"정\",\"밖\"]\n",
    "tokens_noun = [each for each in tokens_noun if each not in stopwords]\n",
    "tokens_noun"
   ]
  },
  {
   "cell_type": "code",
   "execution_count": null,
   "metadata": {},
   "outputs": [],
   "source": [
    "from collections import Counter\n",
    "#명사의 빈도수 추출\n",
    "Counter(tokens_noun).most_common(500)"
   ]
  },
  {
   "cell_type": "code",
   "execution_count": null,
   "metadata": {},
   "outputs": [],
   "source": [
    "nouns_dict = dict(Counter(tokens_noun).most_common(1000))\n",
    "nouns_dict"
   ]
  },
  {
   "cell_type": "code",
   "execution_count": null,
   "metadata": {},
   "outputs": [],
   "source": [
    "#대한민국 지도 위에 워드클라우드 그리기\n",
    "\n",
    "wordcloud = WordCloud(background_color = \"white\",\n",
    "                    font_path = \"c:/Windows/Fonts/malgun.ttf\",  \n",
    "                    mask = np.array(Image.open(\"koreanmap.png\")),\n",
    "                    colormap = \"flag\",\n",
    "                    relative_scaling = 0.1,\n",
    "                    max_font_size = 40)\n",
    "\n",
    "wordcloud.generate_from_frequencies(nouns_dict)  #워드클라우드에 넣어주고 싶은 것의 딕셔너리 파일을\n",
    "wordcloud.to_image()"
   ]
  },
  {
   "cell_type": "markdown",
   "metadata": {},
   "source": [
    "<br>"
   ]
  },
  {
   "cell_type": "markdown",
   "metadata": {},
   "source": [
    "## Dataframe에서 텍스트 데이터 추출하여 WordCloud 만들기\n",
    "\n",
    "#### Reference: https://www.coursera.org/learn/python-for-data-visualization/ 의 exercise"
   ]
  },
  {
   "cell_type": "code",
   "execution_count": null,
   "metadata": {},
   "outputs": [],
   "source": [
    "immigration = pd.read_csv(\"immigration.csv\")\n",
    "immigration = immigration.set_index(\"Country\")\n",
    "immigration.head(10)\n",
    "\n",
    "#data 설명 : 1980~2013 매 해 캐나다로 이민 온 사람들을 국적별로 분류한 dataframe\n",
    "    #Continent : 해당 국가가 위치한 대륙\n",
    "    #Region : 세분화된 지역 분류\n",
    "    #DevName : 해당 국가가 개도국인지 선진국인지"
   ]
  },
  {
   "cell_type": "code",
   "execution_count": null,
   "metadata": {},
   "outputs": [],
   "source": [
    "#총 이민자 수 :\n",
    "total_immigration =int(immigration[\"Total\"].sum())\n",
    "total_immigration"
   ]
  },
  {
   "cell_type": "markdown",
   "metadata": {},
   "source": [
    "### Text Data 생성\n",
    "각 나라의 Total 이민자 수가 총 이민자 수에서 차지하는 비율만큼 텍스트에 그 국가의 이름을 포함시켜보자. (3000 단어 길이의 텍스트 생성)"
   ]
  },
  {
   "cell_type": "code",
   "execution_count": null,
   "metadata": {},
   "outputs": [],
   "source": [
    "max_words = 3000\n",
    "txt = ''\n",
    "for country in immigration.index.values:\n",
    "    # 국가이름이 한 단어인 국가들만 보겠습니다^^\n",
    "    if len(country.split(' ')) == 1:\n",
    "        repeat_num_times = int(immigration.loc[country, 'Total']/float(total_immigration)*max_words)\n",
    "        txt = txt + ((country + ' ') * repeat_num_times)\n",
    "                                     \n",
    "# display the generated text\n",
    "txt\n",
    "#이러면 (3000 * 전체 immigrants 중 각 국가의 국민이 차지하는 비중) >= 1 이상인 국가만 뜹니다."
   ]
  },
  {
   "cell_type": "markdown",
   "metadata": {},
   "source": [
    "### WordCloud 만들기"
   ]
  },
  {
   "cell_type": "code",
   "execution_count": null,
   "metadata": {},
   "outputs": [],
   "source": [
    "world_wordcloud = WordCloud(background_color = 'white',\n",
    "                           collocations = False)\n",
    "\n",
    "world_wordcloud.generate(txt)\n",
    "world_wordcloud.to_image()"
   ]
  },
  {
   "cell_type": "markdown",
   "metadata": {},
   "source": [
    "#### 세계지도에 입혀보자!"
   ]
  },
  {
   "cell_type": "code",
   "execution_count": null,
   "metadata": {},
   "outputs": [],
   "source": [
    "worldmap_mask = np.array(Image.open(\"World_map_green.png\").resize((500, 250)))\n",
    "worldmap_mask"
   ]
  },
  {
   "cell_type": "code",
   "execution_count": null,
   "metadata": {},
   "outputs": [],
   "source": [
    "def transform_format(val):\n",
    "    if val == 0:\n",
    "        return 255\n",
    "    else:\n",
    "        return val"
   ]
  },
  {
   "cell_type": "code",
   "execution_count": null,
   "metadata": {},
   "outputs": [],
   "source": [
    "transformed_worldmap_mask = np.ndarray((worldmap_mask.shape[0],worldmap_mask.shape[1]), np.int32)\n",
    "\n",
    "for i in range(len(worldmap_mask)):\n",
    "    transformed_worldmap_mask[i] = list(map(transform_format, worldmap_mask[i]))\n",
    "transformed_worldmap_mask"
   ]
  },
  {
   "cell_type": "code",
   "execution_count": null,
   "metadata": {},
   "outputs": [],
   "source": [
    "world_wordcloud = WordCloud(background_color = 'white',\n",
    "                           collocations = False,\n",
    "                           mask = transformed_worldmap_mask,\n",
    "                           colormap = \"Reds\",\n",
    "                       contour_width = 1,\n",
    "                           min_font_size = 1)\n",
    "\n",
    "world_wordcloud.generate(txt)\n",
    "world_wordcloud.to_image()"
   ]
  },
  {
   "cell_type": "markdown",
   "metadata": {},
   "source": [
    "<br>"
   ]
  },
  {
   "cell_type": "markdown",
   "metadata": {},
   "source": [
    "## 이미지의 색을 살린 WordCloud\n",
    "와인 데이터를 이용하겠습니다."
   ]
  },
  {
   "cell_type": "code",
   "execution_count": null,
   "metadata": {},
   "outputs": [],
   "source": [
    "from wordcloud import ImageColorGenerator"
   ]
  },
  {
   "cell_type": "code",
   "execution_count": null,
   "metadata": {},
   "outputs": [],
   "source": [
    "wine = pd.read_csv(\"winemag_data.csv\", index_col = 0)\n",
    "wine.head()"
   ]
  },
  {
   "cell_type": "code",
   "execution_count": null,
   "metadata": {},
   "outputs": [],
   "source": [
    "stopwords.append([\"drink\", \"now\", \"wine\", \"flavor\", \"flavors\"])"
   ]
  },
  {
   "cell_type": "markdown",
   "metadata": {},
   "source": [
    "### 미국 국기에 US Wine Description으로 WordCloud 해보기"
   ]
  },
  {
   "cell_type": "code",
   "execution_count": null,
   "metadata": {},
   "outputs": [],
   "source": [
    "usa = \" \".join(i for i in wine[wine[\"country\"] == \"US\"].description)"
   ]
  },
  {
   "cell_type": "code",
   "execution_count": null,
   "metadata": {},
   "outputs": [],
   "source": [
    "us_mask = np.array(Image.open(\"us_flag.png\"))\n",
    "image_colors = ImageColorGenerator(us_mask)\n",
    "\n",
    "us_flag_wc = WordCloud(background_color = \"white\",\n",
    "                      stopwords = stopwords,\n",
    "                      mode = \"RGBA\",\n",
    "                      max_words = 1000,\n",
    "                      mask = us_mask,\n",
    "                      color_func = image_colors,\n",
    "                      min_font_size = 2,\n",
    "                      width = 300, height = 150)\n",
    "\n",
    "us_flag_wc.generate(usa)\n",
    "us_flag_wc.to_image()"
   ]
  },
  {
   "cell_type": "markdown",
   "metadata": {},
   "source": [
    "##### 다른 국가들도 마찬가지로 png 파일만 있다면 가능 !"
   ]
  },
  {
   "cell_type": "code",
   "execution_count": null,
   "metadata": {},
   "outputs": [],
   "source": [
    "# 저장하기\n",
    "us_flag_wc.to_file(\"us_flag_wc.png\")"
   ]
  },
  {
   "cell_type": "markdown",
   "metadata": {},
   "source": [
    "\n",
    "\n",
    "## 실습을 진행할 시간입니다!\n",
    ": PC 카톡에서 카카오톡 대화내용 내보내기를 한 후 워드클라우드 생성하기!"
   ]
  },
  {
   "cell_type": "code",
   "execution_count": null,
   "metadata": {},
   "outputs": [],
   "source": [
    "# 불러오기 open('xx.txt').read()\n"
   ]
  },
  {
   "cell_type": "code",
   "execution_count": null,
   "metadata": {},
   "outputs": [],
   "source": [
    "# okt 사용하여 명사 불러오기\n"
   ]
  },
  {
   "cell_type": "code",
   "execution_count": null,
   "metadata": {},
   "outputs": [],
   "source": [
    "# 명사 빈도수 파악\n"
   ]
  },
  {
   "cell_type": "code",
   "execution_count": null,
   "metadata": {},
   "outputs": [],
   "source": [
    "# stopwords 지정 (변수 이름을 stopwords라고 하면 위에서 설정한 거랑 중복되니까 주의)\n",
    "# 카카오톡 내보내기할 경우 불필요하게 들어가는 것들\n",
    "kakao_stopwords = ['님', '카카오','톡','대화','저장','날짜','오전','오후','월요일', '화요일', '수요일', '목요일', '금요일', '토요일', '일요일']\n",
    "\n",
    "# 위에서 파악한 빈도수를 바탕으로 카톡방이름, 카톡이름과 같은 불필요한 것들 stopwords에 추가\n",
    "kakao_stopwords.append()"
   ]
  },
  {
   "cell_type": "code",
   "execution_count": null,
   "metadata": {},
   "outputs": [],
   "source": [
    "# stopwords 제거\n"
   ]
  },
  {
   "cell_type": "code",
   "execution_count": null,
   "metadata": {},
   "outputs": [],
   "source": [
    "# 딕셔너리화\n"
   ]
  },
  {
   "cell_type": "code",
   "execution_count": null,
   "metadata": {},
   "outputs": [],
   "source": [
    "# WordCloud Customizing !!\n"
   ]
  }
 ],
 "metadata": {
  "kernelspec": {
   "display_name": "Python 3",
   "language": "python",
   "name": "python3"
  },
  "language_info": {
   "codemirror_mode": {
    "name": "ipython",
    "version": 3
   },
   "file_extension": ".py",
   "mimetype": "text/x-python",
   "name": "python",
   "nbconvert_exporter": "python",
   "pygments_lexer": "ipython3",
   "version": "3.6.4"
  }
 },
 "nbformat": 4,
 "nbformat_minor": 2
}
