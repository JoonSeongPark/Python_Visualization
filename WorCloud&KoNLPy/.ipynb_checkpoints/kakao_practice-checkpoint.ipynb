{
 "cells": [
  {
   "cell_type": "markdown",
   "metadata": {},
   "source": [
    "## 직접 카카오톡 불러와서 해보기!\n",
    "---"
   ]
  },
  {
   "cell_type": "code",
   "execution_count": 32,
   "metadata": {},
   "outputs": [],
   "source": [
    "import matplotlib as mpl\n",
    "import matplotlib.pyplot as plt\n",
    "import pandas as pd\n",
    "import numpy as np\n",
    "%matplotlib inline\n",
    "np.set_printoptions(threshold=np.inf)\n",
    "\n",
    "from wordcloud import WordCloud, STOPWORDS as stopwords\n",
    "\n",
    "import konlpy\n",
    "from konlpy.tag import Okt\n",
    "\n",
    "from PIL import Image, ImageFilter\n",
    "\n",
    "from collections import Counter"
   ]
  },
  {
   "cell_type": "code",
   "execution_count": null,
   "metadata": {},
   "outputs": [],
   "source": [
    "# 불러오기 open('xx.txt').read()\n",
    "# 불러오기만 하고 변수 프린트 하지말기! (메모리 터질 가능성 있음)\n"
   ]
  },
  {
   "cell_type": "code",
   "execution_count": null,
   "metadata": {},
   "outputs": [],
   "source": [
    "# okt 사용하여 명사 불러오기\n"
   ]
  },
  {
   "cell_type": "code",
   "execution_count": null,
   "metadata": {},
   "outputs": [],
   "source": [
    "# 명사 빈도수 파악\n"
   ]
  },
  {
   "cell_type": "code",
   "execution_count": null,
   "metadata": {},
   "outputs": [],
   "source": [
    "# stopwords 지정 (변수 이름을 stopwords라고 하면 위에서 설정한 거랑 중복되니까 주의)\n",
    "# 카카오톡 내보내기할 경우 불필요하게 들어가는 것들\n",
    "kakao_stopwords = ['님', '카카오','톡','대화','저장','날짜','오전','오후','월요일', '화요일', '수요일', '목요일', '금요일', '토요일', '일요일', '사진', '이모티콘','삭제']\n",
    "\n",
    "# 위에서 파악한 빈도수를 바탕으로 카톡방이름, 카톡 닉네임과 같은 불필요한 것들 stopwords에 추가\n",
    "kakao_stopwords.extend([])"
   ]
  },
  {
   "cell_type": "code",
   "execution_count": null,
   "metadata": {},
   "outputs": [],
   "source": [
    "# stopwords 제거\n"
   ]
  },
  {
   "cell_type": "code",
   "execution_count": null,
   "metadata": {},
   "outputs": [],
   "source": [
    "# 딕셔너리화\n"
   ]
  },
  {
   "cell_type": "code",
   "execution_count": null,
   "metadata": {},
   "outputs": [],
   "source": [
    "# WordCloud Customizing !!\n"
   ]
  }
 ],
 "metadata": {
  "kernelspec": {
   "display_name": "Python 3",
   "language": "python",
   "name": "python3"
  },
  "language_info": {
   "codemirror_mode": {
    "name": "ipython",
    "version": 3
   },
   "file_extension": ".py",
   "mimetype": "text/x-python",
   "name": "python",
   "nbconvert_exporter": "python",
   "pygments_lexer": "ipython3",
   "version": "3.6.4"
  }
 },
 "nbformat": 4,
 "nbformat_minor": 2
}
